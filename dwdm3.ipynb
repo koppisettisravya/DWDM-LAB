{
  "nbformat": 4,
  "nbformat_minor": 0,
  "metadata": {
    "colab": {
      "provenance": [],
      "authorship_tag": "ABX9TyMWb/5iFQe6/jBZIfaTY5mm",
      "include_colab_link": true
    },
    "kernelspec": {
      "name": "python3",
      "display_name": "Python 3"
    },
    "language_info": {
      "name": "python"
    }
  },
  "cells": [
    {
      "cell_type": "markdown",
      "metadata": {
        "id": "view-in-github",
        "colab_type": "text"
      },
      "source": [
        "<a href=\"https://colab.research.google.com/github/koppisettisravya/DWDM-LAB/blob/main/dwdm3.ipynb\" target=\"_parent\"><img src=\"https://colab.research.google.com/assets/colab-badge.svg\" alt=\"Open In Colab\"/></a>"
      ]
    },
    {
      "cell_type": "code",
      "execution_count": 3,
      "metadata": {
        "id": "oUls271XTKYz"
      },
      "outputs": [],
      "source": [
        "from sklearn.datasets import load_iris\n",
        "import pandas as pd\n",
        "iris =load_iris()"
      ]
    },
    {
      "cell_type": "code",
      "source": [
        "data=pd.DataFrame(iris.data,columns=iris.feature_names)\n",
        "data['target']=iris.target"
      ],
      "metadata": {
        "id": "w-2mGAzlVKZ3"
      },
      "execution_count": 4,
      "outputs": []
    },
    {
      "cell_type": "code",
      "source": [
        "from sklearn.metrics.pairwise import cosine_similarity\n",
        "cos_sim=cosine_similarity(data.iloc[[0]],data.iloc[[1]])\n",
        "print(cos_sim)"
      ],
      "metadata": {
        "colab": {
          "base_uri": "https://localhost:8080/"
        },
        "id": "21ze7gUZVP4e",
        "outputId": "790a7933-8df4-4085-dcca-f8271ac701fc"
      },
      "execution_count": 6,
      "outputs": [
        {
          "output_type": "stream",
          "name": "stdout",
          "text": [
            "[[0.99857916]]\n"
          ]
        }
      ]
    },
    {
      "cell_type": "code",
      "source": [
        "\n",
        "from sklearn.metrics.pairwise import euclidean_distances\n",
        "euclidean_dist=cosine_similarity(data.iloc[[0]],data.iloc[[1]])\n",
        "print(euclidean_dist)"
      ],
      "metadata": {
        "colab": {
          "base_uri": "https://localhost:8080/"
        },
        "id": "vh7T-uqgVntJ",
        "outputId": "2e72869f-f7d0-4928-9998-fb6d14189b79"
      },
      "execution_count": 7,
      "outputs": [
        {
          "output_type": "stream",
          "name": "stdout",
          "text": [
            "[[0.99857916]]\n"
          ]
        }
      ]
    },
    {
      "cell_type": "code",
      "source": [
        "\n",
        "from scipy.stats import pearsonr\n",
        "corr,_=pearsonr(data['petal length (cm)'],data['petal width (cm)'])\n",
        "print(corr)"
      ],
      "metadata": {
        "colab": {
          "base_uri": "https://localhost:8080/"
        },
        "id": "b5Ajc_ScVtAP",
        "outputId": "95ce7219-6d98-4265-a57f-0a38e0b52d08"
      },
      "execution_count": 9,
      "outputs": [
        {
          "output_type": "stream",
          "name": "stdout",
          "text": [
            "0.962865431402796\n"
          ]
        }
      ]
    },
    {
      "cell_type": "code",
      "source": [
        "from sklearn.metrics import jaccard_score"
      ],
      "metadata": {
        "id": "E9ERaxCwV50Q"
      },
      "execution_count": 10,
      "outputs": []
    },
    {
      "cell_type": "code",
      "source": [
        "\n",
        "from sklearn.metrics.pairwise import manhattan_distances\n",
        "manhattan_dist=cosine_similarity(data.iloc[[0], :-1],data.iloc[[1], :-1])\n",
        "print('Manhattan Distance : ',manhattan_dist[0][0])"
      ],
      "metadata": {
        "colab": {
          "base_uri": "https://localhost:8080/"
        },
        "id": "jdCTTqNZV9Tr",
        "outputId": "29aa2b06-2555-4df8-c8fb-b4a3ff646fc0"
      },
      "execution_count": 11,
      "outputs": [
        {
          "output_type": "stream",
          "name": "stdout",
          "text": [
            "Manhattan Distance :  0.9985791635040219\n"
          ]
        }
      ]
    }
  ]
}